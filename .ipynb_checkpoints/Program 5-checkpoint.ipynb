{
 "cells": [
  {
   "cell_type": "code",
   "execution_count": 13,
   "id": "e637d99a",
   "metadata": {},
   "outputs": [
    {
     "name": "stdout",
     "output_type": "stream",
     "text": [
      "Actual Output:\n",
      "[[0.]\n",
      " [0.]\n",
      " [0.]\n",
      " [1.]]\n",
      "Predicted Output:\n",
      " [[6.87072226e-04]\n",
      " [4.15780705e-02]\n",
      " [4.86604262e-02]\n",
      " [9.32570744e-01]]\n"
     ]
    }
   ],
   "source": [
    "import numpy as np\n",
    "X = np.array(([0,0],[0,1],[1,0],[1,1]),dtype = float)\n",
    "y = np.array(([0],[0],[0],[1]),dtype = float)\n",
    "def sigmoid(x):\n",
    "    return 1/(1+np.exp(-x))\n",
    "\n",
    "def derivatives_sigmoid(x):\n",
    "    return x * (1 - x)\n",
    "\n",
    "epoch = 9000\n",
    "lr = .1\n",
    "inputlayer_neurons = 2\n",
    "hiddenlayer_neurons = 3\n",
    "output_neurons = 1\n",
    "\n",
    "wh = np.random.uniform(size = (inputlayer_neurons,hiddenlayer_neurons))\n",
    "bh = np.random.uniform(size = (1,hiddenlayer_neurons))\n",
    "wout = np.random.uniform(size = (hiddenlayer_neurons,output_neurons))\n",
    "bout = np.random.uniform(size = (1,output_neurons))\n",
    "for i in range(epoch):\n",
    "    hinp1 = np.dot(X,wh)\n",
    "    hinp = hinp1+bh\n",
    "    hlayer_act = sigmoid(hinp)\n",
    "    outinp1 = np.dot(hlayer_act,wout)\n",
    "    outinp = outinp1 + bout\n",
    "    output = sigmoid(outinp)\n",
    "    EO = y - output\n",
    "    outgrad = derivatives_sigmoid(output)\n",
    "    d_output = EO * outgrad\n",
    "    EH = d_output.dot(wout.T)\n",
    "    hiddengrad = derivatives_sigmoid(hlayer_act)\n",
    "    d_hiddenlayer = EH * hiddengrad\n",
    "    wout += hlayer_act.T.dot(d_output) * lr\n",
    "    wh += X.T.dot(d_hiddenlayer) * lr\n",
    "print(\"Actual Output:\\n\" + str(y))\n",
    "print(\"Predicted Output:\\n\",output)    \n"
   ]
  },
  {
   "cell_type": "code",
   "execution_count": 17,
   "id": "bb04c5fa",
   "metadata": {},
   "outputs": [
    {
     "name": "stdout",
     "output_type": "stream",
     "text": [
      "[[1.00001326]\n",
      " [1.00013746]\n",
      " [1.0000367 ]\n",
      " [1.00022713]]\n",
      "[[0.]\n",
      " [0.]\n",
      " [0.]\n",
      " [1.]]\n"
     ]
    }
   ],
   "source": [
    "import numpy as np\n",
    "X = np.array(([0,0],[0,1],[1,0],[1,1]),dtype=float)\n",
    "y = np.array(([0],[0],[0],[1]),dtype=float)\n",
    "\n",
    "def sigmod(x):\n",
    "    return 1/1+np.exp(-x)\n",
    "\n",
    "def derivative_sigmod(x):\n",
    "    return x*(1-x)\n",
    "\n",
    "epoch = 9000\n",
    "lr = 0.1\n",
    "hiddenlayer_neurons = 3\n",
    "input_neurons = 2\n",
    "output_neurons = 1\n",
    "\n",
    "wh = np.random.uniform(size=(input_neurons,hiddenlayer_neurons))\n",
    "bh = np.random.uniform(size=(1,hiddenlayer_neurons))\n",
    "wout = np.random.uniform(size=(hiddenlayer_neurons,output_neurons))\n",
    "bout = np.random.uniform(size=(1,output_neurons))\n",
    "for i in range(epoch):\n",
    "    hinp1 = np.dot(X,wh)\n",
    "    hinp = hinp1+bh\n",
    "    hlayer_act = sigmod(hinp)\n",
    "    outinp1 = np.dot(hlayer_act,wout)\n",
    "    outinp = outinp1 + bout\n",
    "    output = sigmod(outinp)\n",
    "    EO = y- output\n",
    "    outgrand = derivative_sigmod(output)\n",
    "    d_output = EO*outgrand\n",
    "    EH = d_output.dot(wout.T)\n",
    "    hiddengrad = derivative_sigmod(hlayer_act)\n",
    "    d_hiddernlayer = EH*outgrand \n",
    "    wout += hlayer_act.T.dot(d_output)*lr\n",
    "    wh += X.T.dot(d_hiddernlayer)*lr\n",
    "    \n",
    "print(output)\n",
    "print(str(y))\n",
    "    "
   ]
  },
  {
   "cell_type": "code",
   "execution_count": 19,
   "id": "65ed6fa7",
   "metadata": {},
   "outputs": [
    {
     "name": "stdout",
     "output_type": "stream",
     "text": [
      "[[1.52968383e-02]\n",
      " [3.31902780e-04]\n",
      " [9.53486684e-01]\n",
      " [3.74481644e-02]]\n",
      "[[0.]\n",
      " [0.]\n",
      " [1.]\n",
      " [0.]]\n"
     ]
    }
   ],
   "source": [
    "import numpy as np\n",
    "X = np.array(([0,0],[0,1],[1,0],[1,1]),dtype=float)\n",
    "y = np.array(([0],[0],[1],[0]),dtype=float)\n",
    "\n",
    "def sigmod(x):\n",
    "    return 1/(1+np.exp(-x))\n",
    "\n",
    "def dirvative_sigmod(x):\n",
    "    return x*(1-x)\n",
    "\n",
    "epoch = 9000\n",
    "lr = 0.1\n",
    "output_neuron = 1\n",
    "hidden_neuron = 3\n",
    "input_neuron = 2\n",
    "\n",
    "wh = np.random.uniform(size=(input_neuron,hidden_neuron))\n",
    "bh = np.random.uniform(size=(1,hidden_neuron))\n",
    "wout = np.random.uniform(size=(hidden_neuron,output_neuron))\n",
    "bout = np.random.uniform(size=(1,output_neuron))\n",
    "for i in range(epoch):\n",
    "    hinp1 = np.dot(X,wh)\n",
    "    hinp = hinp1+bh\n",
    "    hlayer_act = sigmod(hinp)\n",
    "    outinp1 = np.dot(hlayer_act,wout)\n",
    "    outinp = outinp1+bout\n",
    "    output = sigmod(outinp)\n",
    "    EO = y - output\n",
    "    outgrand = dirvative_sigmod(output)\n",
    "    d_output = EO*outgrand\n",
    "    EH= d_output.dot(wout.T)\n",
    "    hiddergrand= dirvative_sigmod(hlayer_act)\n",
    "    d_hiddernlayer = EH*outgrand\n",
    "    wout += hlayer_act.T.dot(d_output)*lr\n",
    "    wh += X.T.dot(d_hiddernlayer)*lr\n",
    "print(output)\n",
    "print(str(y))\n"
   ]
  },
  {
   "cell_type": "code",
   "execution_count": 6,
   "id": "9f684c40",
   "metadata": {},
   "outputs": [
    {
     "name": "stdout",
     "output_type": "stream",
     "text": [
      "[[0.]\n",
      " [0.]\n",
      " [1.]\n",
      " [0.]]\n",
      "[[3.85392462e-02]\n",
      " [1.68368140e-04]\n",
      " [9.59379724e-01]\n",
      " [1.64186894e-02]]\n"
     ]
    }
   ],
   "source": [
    "import numpy as np\n",
    "X = np.array(([0,0],[0,1],[1,0],[1,1]),dtype=float)\n",
    "y = np.array(([0],[0],[1],[0]),dtype=float)\n",
    "def sigmod(x):\n",
    "    return 1/(1+np.exp(-x))\n",
    "def direvative_sigmod(x):\n",
    "    return x*(1-x)\n",
    "epoch=9000\n",
    "lr = .1\n",
    "hiddenlayer_neuron = 3\n",
    "input_neuron = 2\n",
    "output_neuron = 1\n",
    "wh = np.random.uniform(size=(input_neuron,hiddenlayer_neuron))\n",
    "bh = np.random.uniform(size=(1,hiddenlayer_neuron))\n",
    "wout=np.random.uniform(size=(hiddenlayer_neuron,output_neuron))\n",
    "bout = np.random.uniform(size=(1,output_neuron))\n",
    "for i in range(epoch):\n",
    "    hinp1 = np.dot(X,wh)\n",
    "    hinp = hinp1+bh\n",
    "    hiddenlayer_act = sigmod(hinp)\n",
    "    outinp1 = np.dot(hiddenlayer_act,wout)\n",
    "    outinp = outinp1+bout\n",
    "    output = sigmod(outinp)\n",
    "    EO = y- output\n",
    "    outgrand = direvative_sigmod(output)\n",
    "    d_output=EO*outgrand\n",
    "    EH = d_output.dot(wout.T)\n",
    "    hiddengrand = direvative_sigmod(hiddenlayer_act)\n",
    "    d_hiddenlayer = EH*hiddengrand\n",
    "    wout += hiddenlayer_act.T.dot(d_output)*lr\n",
    "    wh += X.T.dot(d_hiddenlayer)*lr\n",
    "print(str(y))\n",
    "print(output)"
   ]
  },
  {
   "cell_type": "code",
   "execution_count": null,
   "id": "1030b19f",
   "metadata": {},
   "outputs": [],
   "source": []
  },
  {
   "cell_type": "code",
   "execution_count": null,
   "id": "30d625c4",
   "metadata": {},
   "outputs": [],
   "source": []
  },
  {
   "cell_type": "code",
   "execution_count": null,
   "id": "0b74bda9",
   "metadata": {},
   "outputs": [],
   "source": []
  },
  {
   "cell_type": "code",
   "execution_count": null,
   "id": "a7e5a21b",
   "metadata": {},
   "outputs": [],
   "source": []
  },
  {
   "cell_type": "code",
   "execution_count": null,
   "id": "d1ca2818",
   "metadata": {},
   "outputs": [],
   "source": []
  }
 ],
 "metadata": {
  "kernelspec": {
   "display_name": "Python 3 (ipykernel)",
   "language": "python",
   "name": "python3"
  },
  "language_info": {
   "codemirror_mode": {
    "name": "ipython",
    "version": 3
   },
   "file_extension": ".py",
   "mimetype": "text/x-python",
   "name": "python",
   "nbconvert_exporter": "python",
   "pygments_lexer": "ipython3",
   "version": "3.9.5"
  }
 },
 "nbformat": 4,
 "nbformat_minor": 5
}
