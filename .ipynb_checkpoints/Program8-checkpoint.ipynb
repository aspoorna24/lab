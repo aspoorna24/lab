{
 "cells": [
  {
   "cell_type": "code",
   "execution_count": null,
   "id": "08992f00",
   "metadata": {},
   "outputs": [],
   "source": []
  },
  {
   "cell_type": "code",
   "execution_count": 6,
   "id": "ea2f0bbe",
   "metadata": {},
   "outputs": [
    {
     "name": "stdout",
     "output_type": "stream",
     "text": [
      "Iris dataset loaded\n",
      "Dataset is split into training and testing\n",
      "Size of training data and its label (135, 4) (135,)\n",
      "Size of testing data and its label (15, 4) (15,)\n",
      "Label 0 - setosa\n",
      "Label 1 - versicolor\n",
      "Label 2 - virginica\n",
      "Results of Classification using K-nn with K=1\n",
      "Sample: [5.8 4.  1.2 0.2] Actual-label: 0 Predicted-label: 0\n",
      "Sample: [5.8 2.7 5.1 1.9] Actual-label: 2 Predicted-label: 2\n",
      "Sample: [7.6 3.  6.6 2.1] Actual-label: 2 Predicted-label: 2\n",
      "Sample: [6.7 2.5 5.8 1.8] Actual-label: 2 Predicted-label: 2\n",
      "Sample: [6.  3.4 4.5 1.6] Actual-label: 1 Predicted-label: 1\n",
      "Sample: [5.8 2.6 4.  1.2] Actual-label: 1 Predicted-label: 1\n",
      "Sample: [6.1 2.9 4.7 1.4] Actual-label: 1 Predicted-label: 1\n",
      "Sample: [5.7 2.8 4.5 1.3] Actual-label: 1 Predicted-label: 1\n",
      "Sample: [5.7 3.8 1.7 0.3] Actual-label: 0 Predicted-label: 0\n",
      "Sample: [6.3 3.3 6.  2.5] Actual-label: 2 Predicted-label: 2\n",
      "Sample: [5.3 3.7 1.5 0.2] Actual-label: 0 Predicted-label: 0\n",
      "Sample: [5.6 3.  4.1 1.3] Actual-label: 1 Predicted-label: 1\n",
      "Sample: [6.4 2.7 5.3 1.9] Actual-label: 2 Predicted-label: 2\n",
      "Sample: [6.2 2.2 4.5 1.5] Actual-label: 1 Predicted-label: 1\n",
      "Sample: [4.8 3.1 1.6 0.2] Actual-label: 0 Predicted-label: 0\n",
      "Classification Accuracy: 1.0\n"
     ]
    }
   ],
   "source": [
    "from sklearn.model_selection import train_test_split\n",
    "from sklearn.neighbors import KNeighborsClassifier\n",
    "from sklearn import datasets\n",
    "\n",
    "iris=datasets.load_iris()\n",
    "print(\"Iris dataset loaded\")\n",
    "\n",
    "\n",
    "x_train,x_test,y_train,y_test = train_test_split(iris.data,iris.target,test_size=0.1)\n",
    "print(\"Dataset is split into training and testing\")\n",
    "print(\"Size of training data and its label\",x_train.shape,y_train.shape)\n",
    "print(\"Size of testing data and its label\",x_test.shape,y_test.shape)\n",
    "\n",
    "for i in range(len(iris.target_names)):\n",
    "    print(\"Label\",i,\"-\",str(iris.target_names[i]))\n",
    "classifier = KNeighborsClassifier(n_neighbors=1)\n",
    "classifier.fit(x_train,y_train)\n",
    "y_pred = classifier.predict(x_test)\n",
    "\n",
    "print(\"Results of Classification using K-nn with K=1\")\n",
    "for r in range(0,len(x_test)):\n",
    "    print(\"Sample:\",str(x_test[r]),\"Actual-label:\",str(y_test[r]),\"Predicted-label:\",str(y_pred[r]))\n",
    "print(\"Classification Accuracy:\",classifier.score(x_test,y_test))"
   ]
  },
  {
   "cell_type": "code",
   "execution_count": 8,
   "id": "cf46725c",
   "metadata": {},
   "outputs": [
    {
     "name": "stdout",
     "output_type": "stream",
     "text": [
      "Data is loaded\n",
      "The data set is split into test and train\n",
      "The train data set and label (135, 4) (135,)\n",
      "The test data set and label (15, 4) (135,)\n",
      "Label : 0 - setosa\n",
      "Label : 1 - versicolor\n",
      "Label : 2 - virginica\n",
      "Sample [5.5 2.3 4.  1.3] Actual label 1 Predict 1\n",
      "Sample [5.1 3.5 1.4 0.3] Actual label 0 Predict 0\n",
      "Sample [6.6 3.  4.4 1.4] Actual label 1 Predict 1\n",
      "Sample [6.6 2.9 4.6 1.3] Actual label 1 Predict 1\n",
      "Sample [6.7 3.3 5.7 2.5] Actual label 2 Predict 2\n",
      "Sample [4.9 3.1 1.5 0.1] Actual label 0 Predict 0\n",
      "Sample [6.5 3.  5.5 1.8] Actual label 2 Predict 2\n",
      "Sample [5.9 3.  5.1 1.8] Actual label 2 Predict 2\n",
      "Sample [6.3 2.7 4.9 1.8] Actual label 2 Predict 2\n",
      "Sample [5.2 4.1 1.5 0.1] Actual label 0 Predict 0\n",
      "Sample [5.5 3.5 1.3 0.2] Actual label 0 Predict 0\n",
      "Sample [5.1 3.8 1.6 0.2] Actual label 0 Predict 0\n",
      "Sample [5.1 3.5 1.4 0.2] Actual label 0 Predict 0\n",
      "Sample [5.9 3.  4.2 1.5] Actual label 1 Predict 1\n",
      "Sample [5.6 3.  4.5 1.5] Actual label 1 Predict 1\n",
      "Accuracy Classifier 1.0\n"
     ]
    }
   ],
   "source": [
    "from sklearn.model_selection import train_test_split\n",
    "from sklearn.neighbors import KNeighborsClassifier\n",
    "from sklearn import datasets\n",
    "\n",
    "iris = datasets.load_iris()\n",
    "print(\"Data is loaded\")\n",
    "\n",
    "x_train,x_test,y_train,y_test = train_test_split(iris.data,iris.target,test_size=0.1)\n",
    "print(\"The data set is split into test and train\")\n",
    "print(\"The train data set and label\",x_train.shape,y_train.shape)\n",
    "print(\"The test data set and label\",x_test.shape,y_train.shape)\n",
    "\n",
    "for i in range(len(iris.target_names)):\n",
    "    print(\"Label :\",i,\"-\",str(iris.target_names[i]))\n",
    "classifier = KNeighborsClassifier(n_neighbors=1)\n",
    "classifier.fit(x_train,y_train)\n",
    "y_pred = classifier.predict(x_test)\n",
    "\n",
    "for r in range(0,len(x_test)):\n",
    "    print(\"Sample\",str(x_test[r]),\"Actual label\",str(y_test[r]),\"Predict\",str(y_pred[r]))\n",
    "print(\"Accuracy Classifier\",classifier.score(x_test,y_test))"
   ]
  },
  {
   "cell_type": "code",
   "execution_count": 15,
   "id": "e70c1cf2",
   "metadata": {},
   "outputs": [
    {
     "name": "stdout",
     "output_type": "stream",
     "text": [
      "Data loaded\n",
      "Split into test train\n",
      "Size of train (135, 4) (135,)\n",
      "Size of test (15,) (15, 4)\n",
      "Label 0 - setosa\n",
      "Label 1 - versicolor\n",
      "Label 2 - virginica\n",
      "Sample: [5.3 3.7 1.5 0.2] Actual label: 0 Prediction 0\n",
      "Sample: [5.2 4.1 1.5 0.1] Actual label: 0 Prediction 0\n",
      "Sample: [6.  2.9 4.5 1.5] Actual label: 1 Prediction 1\n",
      "Sample: [4.8 3.  1.4 0.1] Actual label: 0 Prediction 0\n",
      "Sample: [6.3 2.9 5.6 1.8] Actual label: 2 Prediction 2\n",
      "Sample: [4.4 3.  1.3 0.2] Actual label: 0 Prediction 0\n",
      "Sample: [6.6 2.9 4.6 1.3] Actual label: 1 Prediction 1\n",
      "Sample: [6.1 2.6 5.6 1.4] Actual label: 2 Prediction 1\n",
      "Sample: [5.8 2.6 4.  1.2] Actual label: 1 Prediction 1\n",
      "Sample: [5.  3.6 1.4 0.2] Actual label: 0 Prediction 0\n",
      "Sample: [4.8 3.  1.4 0.3] Actual label: 0 Prediction 0\n",
      "Sample: [6.8 3.  5.5 2.1] Actual label: 2 Prediction 2\n",
      "Sample: [5.  3.4 1.5 0.2] Actual label: 0 Prediction 0\n",
      "Sample: [6.3 2.7 4.9 1.8] Actual label: 2 Prediction 2\n",
      "Sample: [6.5 3.  5.8 2.2] Actual label: 2 Prediction 2\n",
      "Accurf 0.9333333333333333\n"
     ]
    }
   ],
   "source": [
    "from sklearn.model_selection import train_test_split\n",
    "from sklearn.neighbors import KNeighborsClassifier\n",
    "from sklearn import datasets\n",
    "\n",
    "iris = datasets.load_iris()\n",
    "print(\"Data loaded\")\n",
    "\n",
    "x_train,x_test,y_train,y_test=train_test_split(iris.data,iris.target,test_size=0.1)\n",
    "print(\"Split into test train\")\n",
    "print(\"Size of train\",x_train.shape,y_train.shape)\n",
    "print(\"Size of test\",y_test.shape,x_test.shape)\n",
    "\n",
    "for i in range(len(iris.target_names)):\n",
    "    print(\"Label\",i,\"-\",str(iris.target_names[i]))\n",
    "classifier = KNeighborsClassifier(n_neighbors=1)\n",
    "classifier.fit(x_train,y_train)\n",
    "y_pred = classifier.predict(x_test)\n",
    "\n",
    "for r in range(0,len(x_test)):\n",
    "    print(\"Sample:\",str(x_test[r]),\"Actual label:\",str(y_test[r]),\"Prediction\",str(y_pred[r]))\n",
    "print(\"Accurf\",classifier.score(x_test,y_test))"
   ]
  },
  {
   "cell_type": "code",
   "execution_count": 2,
   "id": "bfe3c672",
   "metadata": {},
   "outputs": [
    {
     "name": "stdout",
     "output_type": "stream",
     "text": [
      "Data loaded\n",
      "data is split\n",
      "The size of train data (135, 4) (135,)\n",
      "The size of test data (15, 4) (15,)\n",
      "Label 0 - setosa\n",
      "Label 1 - versicolor\n",
      "Label 2 - virginica\n",
      "Sample data:  [5.1 3.4 1.5 0.2] Actual label 0 Predicted label 0\n",
      "Sample data:  [5.1 3.8 1.9 0.4] Actual label 0 Predicted label 0\n",
      "Sample data:  [4.6 3.6 1.  0.2] Actual label 0 Predicted label 0\n",
      "Sample data:  [7.7 2.6 6.9 2.3] Actual label 2 Predicted label 2\n",
      "Sample data:  [5.5 2.6 4.4 1.2] Actual label 1 Predicted label 1\n",
      "Sample data:  [6.5 3.  5.5 1.8] Actual label 2 Predicted label 2\n",
      "Sample data:  [5.7 2.6 3.5 1. ] Actual label 1 Predicted label 1\n",
      "Sample data:  [5.6 2.7 4.2 1.3] Actual label 1 Predicted label 1\n",
      "Sample data:  [6.5 3.  5.8 2.2] Actual label 2 Predicted label 2\n",
      "Sample data:  [6.9 3.1 5.1 2.3] Actual label 2 Predicted label 2\n",
      "Sample data:  [6.1 3.  4.9 1.8] Actual label 2 Predicted label 2\n",
      "Sample data:  [4.6 3.4 1.4 0.3] Actual label 0 Predicted label 0\n",
      "Sample data:  [5.4 3.9 1.3 0.4] Actual label 0 Predicted label 0\n",
      "Sample data:  [5.7 2.5 5.  2. ] Actual label 2 Predicted label 2\n",
      "Sample data:  [5.  3.4 1.6 0.4] Actual label 0 Predicted label 0\n",
      "Accuracy 1.0\n"
     ]
    }
   ],
   "source": [
    "from sklearn.model_selection import train_test_split\n",
    "from sklearn.neighbors import KNeighborsClassifier\n",
    "from sklearn import datasets\n",
    "\n",
    "iris = datasets.load_iris()\n",
    "print(\"Data loaded\")\n",
    "\n",
    "x_train,x_test,y_train,y_test=train_test_split(iris.data,iris.target,test_size=0.1)\n",
    "print(\"data is split\")\n",
    "print(\"The size of train data\",x_train.shape,y_train.shape)\n",
    "print(\"The size of test data\",x_test.shape,y_test.shape)\n",
    "\n",
    "for i in range(len(iris.target_names)):\n",
    "    print(\"Label\",i,\"-\",str(iris.target_names[i]))\n",
    "classifier = KNeighborsClassifier(n_neighbors=1)\n",
    "classifier.fit(x_train,y_train)\n",
    "y_pred=classifier.predict(x_test)\n",
    "\n",
    "for i in range(0,len(x_test)):\n",
    "    print(\"Sample data: \",str(x_test[i]),\"Actual label\",str(y_test[i]),\"Predicted label\",str(y_pred[i]))\n",
    "print(\"Accuracy\",classifier.score(x_test,y_test))"
   ]
  },
  {
   "cell_type": "code",
   "execution_count": null,
   "id": "82513b69",
   "metadata": {},
   "outputs": [],
   "source": []
  }
 ],
 "metadata": {
  "kernelspec": {
   "display_name": "Python 3 (ipykernel)",
   "language": "python",
   "name": "python3"
  },
  "language_info": {
   "codemirror_mode": {
    "name": "ipython",
    "version": 3
   },
   "file_extension": ".py",
   "mimetype": "text/x-python",
   "name": "python",
   "nbconvert_exporter": "python",
   "pygments_lexer": "ipython3",
   "version": "3.9.5"
  }
 },
 "nbformat": 4,
 "nbformat_minor": 5
}
